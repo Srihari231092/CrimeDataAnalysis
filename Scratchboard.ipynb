{
 "cells": [
  {
   "cell_type": "code",
   "execution_count": 84,
   "metadata": {
    "collapsed": false
   },
   "outputs": [
    {
     "name": "stdout",
     "output_type": "stream",
     "text": [
      "      pop_est      continent                  name iso_a3  gdp_md_est  \\\n0  28400000.0           Asia           Afghanistan    AFG     22270.0   \n1  12799293.0         Africa                Angola    AGO    110300.0   \n2   3639453.0         Europe               Albania    ALB     21810.0   \n3   4798491.0           Asia  United Arab Emirates    ARE    184300.0   \n4  40913584.0  South America             Argentina    ARG    573900.0   \n\n                                            geometry  \n0  POLYGON ((61.21081709172574 35.65007233330923,...  \n1  (POLYGON ((16.32652835456705 -5.87747039146621...  \n2  POLYGON ((20.59024743010491 41.85540416113361,...  \n3  POLYGON ((51.57951867046327 24.24549713795111,...  \n4  (POLYGON ((-65.50000000000003 -55.199999999999...  \n              color   opacity\n1454198400  #cea5d0  1.000000\n1456704000  #cda1ce  0.758066\n1459382400  #cda0cd  0.799056\n1461974400  #ca96c8  0.653160\n1464652800  #d086c0  0.681304\n"
     ]
    },
    {
     "data": {
      "text/plain": [
       "True"
      ]
     },
     "execution_count": 84,
     "metadata": {},
     "output_type": "execute_result"
    },
    {
     "data": {
      "image/png": "[encoded data removed]",
      "text/plain": [
       "<Figure size 432x288 with 1 Axes>"
      ]
     },
     "metadata": {},
     "output_type": "display_data"
    }
   ],
   "source": [
    "from folium.plugins import TimeSliderChoropleth\n",
    "import folium\n",
    "import os\n",
    "import pandas as pd\n",
    "import geopandas as gpd\n",
    "import numpy as np\n",
    "from branca.colormap import linear\n",
    "from folium.plugins import TimeSliderChoropleth\n",
    "\n",
    "\n",
    "assert 'naturalearth_lowres' in gpd.datasets.available\n",
    "datapath = gpd.datasets.get_path('naturalearth_lowres')\n",
    "gdf = gpd.read_file(datapath)\n",
    "\n",
    "print(gdf.head())\n",
    "\n",
    "\n",
    "n_periods, n_sample = 48, 40\n",
    "\n",
    "assert n_sample < n_periods\n",
    "\n",
    "datetime_index = pd.date_range('2016-1-1', periods=n_periods, freq='M')\n",
    "dt_index_epochs = datetime_index.astype(int) // 10**9\n",
    "dt_index = dt_index_epochs.astype('U10')\n",
    "\n",
    "dt_index\n",
    "\n",
    "\n",
    "styledata = {}\n",
    "\n",
    "for country in gdf.index:\n",
    "    df = pd.DataFrame(\n",
    "        {'color': np.random.normal(size=n_periods),\n",
    "         'opacity': np.random.normal(size=n_periods)},\n",
    "        index=dt_index\n",
    "    )\n",
    "    df = df.cumsum()\n",
    "    df.sample(n_sample, replace=False).sort_index()\n",
    "    styledata[country] = df\n",
    "\n",
    "max_color, min_color, max_opacity, min_opacity = 0, 0, 0, 0\n",
    "\n",
    "for country, data in styledata.items():\n",
    "    max_color = max(max_color, data['color'].max())\n",
    "    min_color = min(max_color, data['color'].min())\n",
    "    max_opacity = max(max_color, data['opacity'].max())\n",
    "    max_opacity = min(max_color, data['opacity'].max())\n",
    "\n",
    "\n",
    "cmap = linear.PuRd_09.scale(min_color, max_color)\n",
    "\n",
    "def norm(x):\n",
    "    return (x - x.min()) / (x.max() - x.min())\n",
    "\n",
    "\n",
    "for country, data in styledata.items():\n",
    "    data['color'] = data['color'].apply(cmap)\n",
    "    data['opacity'] = norm(data['opacity'])\n",
    "\n",
    "print(styledata.get(0).head())\n",
    "styledict = {\n",
    "    str(country): data.to_dict(orient='index') for\n",
    "    country, data in styledata.items()\n",
    "}\n",
    "\n",
    "\n",
    "m = folium.Map(zoom_start=2)\n",
    "\n",
    "g = TimeSliderChoropleth(\n",
    "    gdf.to_json(),\n",
    "    styledict=styledict,\n",
    "\n",
    ").add_to(m)\n",
    " \n",
    "# Banana hammock\n",
    "import webbrowser\n",
    "filepath = os.path.join(os.getcwd(), 'a.html')\n",
    "m.save(filepath)\n",
    "webbrowser.open('file://' + filepath)"
   ]
  }
 ],
 "metadata": {
  "kernelspec": {
   "display_name": "Python 2",
   "language": "python",
   "name": "python2"
  },
  "language_info": {
   "codemirror_mode": {
    "name": "ipython",
    "version": 2
   },
   "file_extension": ".py",
   "mimetype": "text/x-python",
   "name": "python",
   "nbconvert_exporter": "python",
   "pygments_lexer": "ipython2",
   "version": "2.7.6"
  }
 },
 "nbformat": 4,
 "nbformat_minor": 0
}
