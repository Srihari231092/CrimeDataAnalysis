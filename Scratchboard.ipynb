{
 "cells": [
  {
   "cell_type": "code",
   "execution_count": 11,
   "metadata": {
    "collapsed": false
   },
   "outputs": [],
   "source": [
    "from folium.plugins import TimeSliderChoropleth\n",
    "import folium\n",
    "import os\n",
    "import pandas as pd\n",
    "import geopandas as gpd\n",
    "import numpy as np\n",
    "from branca.colormap import linear\n",
    "from folium.plugins import TimeSliderChoropleth\n",
    "\n",
    "\n",
    "assert 'naturalearth_lowres' in gpd.datasets.available\n",
    "datapath = gpd.datasets.get_path('naturalearth_lowres')\n",
    "gdf = gpd.read_file(datapath)\n",
    "\n",
    "print(gdf.columns)\n",
    "print()\n",
    "print(gdf.shape)\n",
    "\n",
    "# how many countries do we have? \n",
    "print(gdf[\"name\"].unique().shape)"
   ]
  },
  {
   "cell_type": "code",
   "execution_count": 25,
   "metadata": {
    "collapsed": false
   },
   "outputs": [],
   "source": [
    "# how many time sample points do we want?\n",
    "n_periods = 48\n",
    "\n",
    "n_sample = 40\n",
    "\n",
    "assert n_sample < n_periods\n",
    "\n",
    "datetime_index = pd.date_range('2016-1-1', periods=n_periods, freq='M')\n",
    "dt_index_epochs = datetime_index.astype(int) // 10**9\n",
    "dt_index = dt_index_epochs.astype('U10')\n",
    "\n",
    "# for i in zip(datetime_index, dt_index_epochs, dt_index):\n",
    "#     print(i)"
   ]
  },
  {
   "cell_type": "code",
   "execution_count": 58,
   "metadata": {
    "collapsed": false
   },
   "outputs": [],
   "source": [
    "\n",
    "styledata = {}\n",
    "\n",
    "for country in gdf.index:\n",
    "    df = pd.DataFrame(\n",
    "        {'color': np.random.normal(size=n_periods),\n",
    "         'opacity': np.random.normal(size=n_periods)},\n",
    "        index=dt_index\n",
    "    )\n",
    "    # Take cumulative sum to pretend as though each point is built on the other\n",
    "    # df = df.cumsum()\n",
    "    # Randomly shuffle these points now\n",
    "    # df.sample(n_sample, replace=False).sort_index()\n",
    "    styledata[country] = df"
   ]
  },
  {
   "cell_type": "code",
   "execution_count": null,
   "metadata": {
    "collapsed": false
   },
   "outputs": [],
   "source": [
    "# Normalize this data to get the colour map information\n",
    "max_color, min_color, max_opacity, min_opacity = 0, 0, 0, 0\n",
    "\n",
    "for country, data in styledata.items():\n",
    "    max_color = max(max_color, data['color'].max())\n",
    "    min_color = min(max_color, data['color'].min())\n",
    "    max_opacity = max(max_color, data['opacity'].max())\n",
    "    max_opacity = min(max_color, data['opacity'].max())\n",
    "\n",
    "\n",
    "\n",
    "cmap = linear.PuRd_09.scale(min_color, max_color)\n",
    "\n",
    "def norm(x):\n",
    "    return (x - x.min()) / (x.max() - x.min())\n"
   ]
  },
  {
   "cell_type": "code",
   "execution_count": 75,
   "metadata": {
    "collapsed": false
   },
   "outputs": [],
   "source": [
    "# Now change the data in the style data for each country\n",
    "# for country, data in styledata.items():\n",
    "#     data['color'] = data['color'].apply(cmap)\n",
    "#     data['opacity'] = norm(data['opacity'])\n"
   ]
  },
  {
   "cell_type": "code",
   "execution_count": 76,
   "metadata": {
    "collapsed": false
   },
   "outputs": [],
   "source": [
    "\n",
    "# print(styledata[0].head())\n"
   ]
  },
  {
   "cell_type": "code",
   "execution_count": 77,
   "metadata": {
    "collapsed": false
   },
   "outputs": [],
   "source": [
    "# Finally, make the style dictionary to be in the form folium needs\n",
    "# mainkey_in_datadf : { timestamp_in_epoch : {\"Color\":HEX_COLOR, \"opacity\":float(0,1) } } }\n",
    "styledict = {\n",
    "    str(country): data.to_dict(orient='index') for\n",
    "    country, data in styledata.items()\n",
    "}\n",
    "# for k,v in styledict['0'].items():\n",
    "#     print(k, \"-->\\n\", v)"
   ]
  },
  {
   "cell_type": "code",
   "execution_count": null,
   "metadata": {
    "collapsed": false
   },
   "outputs": [],
   "source": [
    "\n",
    "m = folium.Map(zoom_start=2)\n",
    "\n",
    "g = TimeSliderChoropleth(\n",
    "    gdf.to_json(),\n",
    "    styledict=styledict,\n",
    "\n",
    ").add_to(m)\n",
    " \n",
    "# Banana hammock\n",
    "import webbrowser\n",
    "filepath = os.path.join(os.getcwd(), 'a.html')\n",
    "m.save(filepath)\n",
    "webbrowser.open('file://' + filepath)\n"
   ]
  },
  {
   "cell_type": "code",
   "execution_count": null,
   "metadata": {},
   "outputs": [],
   "source": []
  }
 ],
 "metadata": {
  "kernelspec": {
   "display_name": "Python 2",
   "language": "python",
   "name": "python2"
  },
  "language_info": {
   "codemirror_mode": {
    "name": "ipython",
    "version": 2
   },
   "file_extension": ".py",
   "mimetype": "text/x-python",
   "name": "python",
   "nbconvert_exporter": "python",
   "pygments_lexer": "ipython2",
   "version": "2.7.6"
  }
 },
 "nbformat": 4,
 "nbformat_minor": 0
}
