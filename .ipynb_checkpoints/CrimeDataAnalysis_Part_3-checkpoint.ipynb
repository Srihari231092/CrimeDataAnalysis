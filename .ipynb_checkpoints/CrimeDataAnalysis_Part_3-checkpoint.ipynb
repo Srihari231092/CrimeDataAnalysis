{
 "cells": [
  {
   "cell_type": "code",
   "execution_count": 10,
   "metadata": {},
   "outputs": [
    {
     "name": "stdout",
     "output_type": "stream",
     "text": [
      "All modules loaded\n"
     ]
    }
   ],
   "source": [
    "import os\n",
    "import pandas as pd\n",
    "import webbrowser\n",
    "\n",
    "from DataExtractor import DataExtractor\n",
    "from VizTools import *\n",
    "\n",
    "from folium.plugins import TimeSliderChoropleth\n",
    "import folium\n",
    "import geopandas as gpd\n",
    "print(\"All modules loaded\")"
   ]
  },
  {
   "cell_type": "code",
   "execution_count": 3,
   "metadata": {},
   "outputs": [
    {
     "name": "stdout",
     "output_type": "stream",
     "text": [
      "Pulling year: 2017\n",
      "Pulled 50000 rows of data for year 2017\n"
     ]
    }
   ],
   "source": [
    "# Set the path variables\n",
    "_path = os.path.join(os.getcwd(), \"datasets/crime\")\n",
    "\n",
    "year = 2017\n",
    "db = \"crime_data\"\n",
    "columns_to_select = [\"Arrest\", \n",
    "                     \"Date\", \n",
    "                     \"Year\", \n",
    "                     \"crime_count\", \n",
    "                     \"day\", \n",
    "                     \"month\", \n",
    "                     \"Location\",\n",
    "                     \"Ward\"\n",
    "                     ]\n",
    "\n",
    "print(\"Pulling year:\", year)\n",
    "cols = ''.join(s+\", \" for s in columns_to_select)\n",
    "query = \"SELECT \" + cols[:-2] + \" FROM crime_\" + str(year) + \" LIMIT 50000;\"\n",
    "# print(query)\n",
    "data_extractor = DataExtractor()\n",
    "year_data = data_extractor.read_db(db=db, query=query)\n",
    "print(\"Pulled\", year_data.shape[0], \"rows of data for year\", year)\n"
   ]
  },
  {
   "cell_type": "code",
   "execution_count": 5,
   "metadata": {},
   "outputs": [
    {
     "data": {
      "text/html": [
       "<div>\n",
       "<style scoped>\n",
       "    .dataframe tbody tr th:only-of-type {\n",
       "        vertical-align: middle;\n",
       "    }\n",
       "\n",
       "    .dataframe tbody tr th {\n",
       "        vertical-align: top;\n",
       "    }\n",
       "\n",
       "    .dataframe thead th {\n",
       "        text-align: right;\n",
       "    }\n",
       "</style>\n",
       "<table border=\"1\" class=\"dataframe\">\n",
       "  <thead>\n",
       "    <tr style=\"text-align: right;\">\n",
       "      <th></th>\n",
       "      <th>Arrest</th>\n",
       "      <th>Date</th>\n",
       "      <th>Year</th>\n",
       "      <th>crime_count</th>\n",
       "      <th>day</th>\n",
       "      <th>month</th>\n",
       "      <th>Location</th>\n",
       "      <th>Ward</th>\n",
       "    </tr>\n",
       "  </thead>\n",
       "  <tbody>\n",
       "    <tr>\n",
       "      <th>0</th>\n",
       "      <td>0</td>\n",
       "      <td>2017-01-01 00:01:00</td>\n",
       "      <td>2017</td>\n",
       "      <td>1</td>\n",
       "      <td>1</td>\n",
       "      <td>1</td>\n",
       "      <td>(41.692358646, -87.623096746)</td>\n",
       "      <td>34.0</td>\n",
       "    </tr>\n",
       "    <tr>\n",
       "      <th>1</th>\n",
       "      <td>0</td>\n",
       "      <td>2017-01-01 00:01:00</td>\n",
       "      <td>2017</td>\n",
       "      <td>1</td>\n",
       "      <td>1</td>\n",
       "      <td>1</td>\n",
       "      <td>None</td>\n",
       "      <td>27.0</td>\n",
       "    </tr>\n",
       "    <tr>\n",
       "      <th>2</th>\n",
       "      <td>0</td>\n",
       "      <td>2017-01-01 00:01:00</td>\n",
       "      <td>2017</td>\n",
       "      <td>1</td>\n",
       "      <td>1</td>\n",
       "      <td>1</td>\n",
       "      <td>(41.795355464, -87.669480927)</td>\n",
       "      <td>16.0</td>\n",
       "    </tr>\n",
       "    <tr>\n",
       "      <th>3</th>\n",
       "      <td>0</td>\n",
       "      <td>2017-01-01 00:01:00</td>\n",
       "      <td>2017</td>\n",
       "      <td>1</td>\n",
       "      <td>1</td>\n",
       "      <td>1</td>\n",
       "      <td>(41.942810782, -87.721574491)</td>\n",
       "      <td>30.0</td>\n",
       "    </tr>\n",
       "    <tr>\n",
       "      <th>4</th>\n",
       "      <td>0</td>\n",
       "      <td>2017-01-01 00:01:00</td>\n",
       "      <td>2017</td>\n",
       "      <td>1</td>\n",
       "      <td>1</td>\n",
       "      <td>1</td>\n",
       "      <td>None</td>\n",
       "      <td>2.0</td>\n",
       "    </tr>\n",
       "  </tbody>\n",
       "</table>\n",
       "</div>"
      ],
      "text/plain": [
       "   Arrest                Date  Year  crime_count  day  month  \\\n",
       "0       0 2017-01-01 00:01:00  2017            1    1      1   \n",
       "1       0 2017-01-01 00:01:00  2017            1    1      1   \n",
       "2       0 2017-01-01 00:01:00  2017            1    1      1   \n",
       "3       0 2017-01-01 00:01:00  2017            1    1      1   \n",
       "4       0 2017-01-01 00:01:00  2017            1    1      1   \n",
       "\n",
       "                        Location  Ward  \n",
       "0  (41.692358646, -87.623096746)  34.0  \n",
       "1                           None  27.0  \n",
       "2  (41.795355464, -87.669480927)  16.0  \n",
       "3  (41.942810782, -87.721574491)  30.0  \n",
       "4                           None   2.0  "
      ]
     },
     "execution_count": 5,
     "metadata": {},
     "output_type": "execute_result"
    }
   ],
   "source": [
    "year_data.head()"
   ]
  },
  {
   "cell_type": "code",
   "execution_count": 11,
   "metadata": {},
   "outputs": [
    {
     "name": "stdout",
     "output_type": "stream",
     "text": [
      "Dataframe columns :\n",
      "\t Arrest\t Date\t Year\t crime_count\t day\t month\t Location\t Ward"
     ]
    }
   ],
   "source": [
    "# Clean the data and prep it for visualisation\n",
    "print_columns(year_data)"
   ]
  },
  {
   "cell_type": "code",
   "execution_count": 13,
   "metadata": {},
   "outputs": [],
   "source": [
    "year_group_data = year_data.groupby(by=[\"Ward\", \"month\"], as_index=False).count()"
   ]
  },
  {
   "cell_type": "code",
   "execution_count": 14,
   "metadata": {},
   "outputs": [
    {
     "data": {
      "text/plain": [
       "array([34., 27., 16., 30.,  2., 15.,  5., 24., 13., 31., 22., 28., 12.,\n",
       "       25., 20., 45., 29., 17., 49.,  7.,  9.,  6., 38., 23., 21.,  4.,\n",
       "        8., 48., 36., 10., 33., 32., 18., 14., 47., 26., 11.,  3., 42.,\n",
       "       39., 46.,  1., 35., 37., 19., 43., 50., 44., 41., 40.])"
      ]
     },
     "execution_count": 14,
     "metadata": {},
     "output_type": "execute_result"
    }
   ],
   "source": [
    "wards = year_data[\"Ward\"].unique()\n",
    "months = year_data[\"month\"].unique()\n",
    "# Get each ward\n",
    "\n",
    "# for month in months:\n",
    "#     monthly_ward_data = year_data"
   ]
  },
  {
   "cell_type": "code",
   "execution_count": 16,
   "metadata": {},
   "outputs": [],
   "source": [
    "# Get the mapping boundaries for the choropleth map\n",
    "max_val = ward_data[\"crime_count\"].max()\n",
    "\n",
    "n_steps = 6\n",
    "step = int(max_val / n_steps)\n",
    "th_scale = list(range(0, int(max_val + step), step))\n",
    "\n",
    "ward_data[\"ward\"] = ward_data[\"ward\"].astype('int')"
   ]
  },
  {
   "cell_type": "code",
   "execution_count": 20,
   "metadata": {},
   "outputs": [
    {
     "data": {
      "text/plain": [
       "True"
      ]
     },
     "execution_count": 23,
     "metadata": {},
     "output_type": "execute_result"
    }
   ],
   "source": [
    "chicago_coordinates = (41.895140898, -87.624255632)\n",
    "map1 = choropleth_map(data_path=_path,\n",
    "                      data=ward_data,\n",
    "                      start_coord=chicago_coordinates,\n",
    "                      threshold_scale=th_scale)\n",
    "map1"
   ]
  },
  {
   "cell_type": "code",
   "execution_count": 23,
   "metadata": {},
   "outputs": [
    {
     "data": {
      "text/plain": [
       "True"
      ]
     },
     "execution_count": 23,
     "metadata": {},
     "output_type": "execute_result"
    }
   ],
   "source": [
    "import webbrowser\n",
    "filepath = os.path.join(_path, str(year)+'.html')\n",
    "map1.save(filepath)\n",
    "webbrowser.open('file://' + filepath)"
   ]
  }
 ],
 "metadata": {
  "kernelspec": {
   "display_name": "Python 3",
   "language": "python",
   "name": "python3"
  },
  "language_info": {
   "codemirror_mode": {
    "name": "ipython",
    "version": 3
   },
   "file_extension": ".py",
   "mimetype": "text/x-python",
   "name": "python",
   "nbconvert_exporter": "python",
   "pygments_lexer": "ipython3",
   "version": "3.6.7"
  }
 },
 "nbformat": 4,
 "nbformat_minor": 1
}
