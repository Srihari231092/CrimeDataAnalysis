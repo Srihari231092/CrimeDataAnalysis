{
 "cells": [
  {
   "cell_type": "code",
   "execution_count": 11,
   "metadata": {
    "collapsed": true
   },
   "outputs": [],
   "source": [
    "import os\n",
    "import pandas as pd\n",
    "import webbrowser\n",
    "import plotly\n",
    "import plotly.plotly as py\n",
    "import plotly.graph_objs as go\n",
    "plotly.tools.set_credentials_file(username='sriharis', api_key='p8spnf2VsxL5iKxajOu0')\n",
    "\n",
    "from DataExtractor import DataExtractor\n",
    "from DataUtils import *\n",
    "from VizTools import *"
   ]
  },
  {
   "cell_type": "code",
   "execution_count": 12,
   "metadata": {},
   "outputs": [
    {
     "name": "stdout",
     "output_type": "stream",
     "text": [
      "Pulled 263771 rows of data for year 2015\n"
     ]
    },
    {
     "name": "stdout",
     "output_type": "stream",
     "text": [
      "Pulled 268691 rows of data for year 2016\n"
     ]
    },
    {
     "name": "stdout",
     "output_type": "stream",
     "text": [
      "Pulled 267626 rows of data for year 2017\n"
     ]
    }
   ],
   "source": [
    "# Set the path variables\n",
    "_path = os.path.join(os.getcwd(), \"datasets/crime\")\n",
    "\n",
    "db = 'crime_data'\n",
    "\n",
    "start_year = 2015\n",
    "end_year = 2017\n",
    "all_year_data = []\n",
    "\n",
    "columns_to_select = [\"Arrest\", \n",
    "                     \"Date\", \n",
    "                     \"Year\", \n",
    "                     \"crime_count\", \n",
    "                     \"day\", \n",
    "                     \"month\", \n",
    "                     # \"quarter\", \n",
    "                     # \"week_no\"\n",
    "                     ]\n",
    "\n",
    "for year in range(start_year, end_year+1):\n",
    "    # print(\"Pulling year:\", year)\n",
    "    cols = ''.join(s+\", \" for s in columns_to_select)\n",
    "    query = \"SELECT \" + cols[:-2] + \" FROM crime_\" + str(year) + \";\"\n",
    "    # print(query)\n",
    "    data_extractor = DataExtractor()\n",
    "    year_df = data_extractor.read_db(db=db, query=query)\n",
    "    print(\"Pulled\", year_df.shape[0], \"rows of data for year\", year)\n",
    "    # print(year_df.shape)\n",
    "    all_year_data.append(year_df)\n"
   ]
  },
  {
   "cell_type": "code",
   "execution_count": 20,
   "metadata": {},
   "outputs": [
    {
     "name": "stdout",
     "output_type": "stream",
     "text": [
      "Dataframe columns :\n\t Arrest\t Date\t Year\t crime_count\t day\t month"
     ]
    }
   ],
   "source": [
    "# What are out columns?\n",
    "print_columns(all_year_data[0])\n"
   ]
  },
  {
   "cell_type": "code",
   "execution_count": 49,
   "metadata": {},
   "outputs": [
    {
     "data": {
      "text/html": [
       "<div>\n",
       "<style scoped>\n",
       "    .dataframe tbody tr th:only-of-type {\n",
       "        vertical-align: middle;\n",
       "    }\n",
       "\n",
       "    .dataframe tbody tr th {\n",
       "        vertical-align: top;\n",
       "    }\n",
       "\n",
       "    .dataframe thead th {\n",
       "        text-align: right;\n",
       "    }\n",
       "</style>\n",
       "<table border=\"1\" class=\"dataframe\">\n",
       "  <thead>\n",
       "    <tr style=\"text-align: right;\">\n",
       "      <th></th>\n",
       "      <th>Year</th>\n",
       "      <th>month</th>\n",
       "      <th>day</th>\n",
       "      <th>Arrest</th>\n",
       "      <th>crime_count</th>\n",
       "      <th>Date</th>\n",
       "      <th>day_name</th>\n",
       "    </tr>\n",
       "  </thead>\n",
       "  <tbody>\n",
       "    <tr>\n",
       "      <th>0</th>\n",
       "      <td>2015</td>\n",
       "      <td>1</td>\n",
       "      <td>1</td>\n",
       "      <td>200</td>\n",
       "      <td>1021</td>\n",
       "      <td>2015-01-01</td>\n",
       "      <td>Thursday</td>\n",
       "    </tr>\n",
       "    <tr>\n",
       "      <th>1</th>\n",
       "      <td>2015</td>\n",
       "      <td>1</td>\n",
       "      <td>2</td>\n",
       "      <td>190</td>\n",
       "      <td>672</td>\n",
       "      <td>2015-01-02</td>\n",
       "      <td>Friday</td>\n",
       "    </tr>\n",
       "    <tr>\n",
       "      <th>2</th>\n",
       "      <td>2015</td>\n",
       "      <td>1</td>\n",
       "      <td>3</td>\n",
       "      <td>205</td>\n",
       "      <td>648</td>\n",
       "      <td>2015-01-03</td>\n",
       "      <td>Saturday</td>\n",
       "    </tr>\n",
       "    <tr>\n",
       "      <th>3</th>\n",
       "      <td>2015</td>\n",
       "      <td>1</td>\n",
       "      <td>4</td>\n",
       "      <td>160</td>\n",
       "      <td>513</td>\n",
       "      <td>2015-01-04</td>\n",
       "      <td>Sunday</td>\n",
       "    </tr>\n",
       "    <tr>\n",
       "      <th>4</th>\n",
       "      <td>2015</td>\n",
       "      <td>1</td>\n",
       "      <td>5</td>\n",
       "      <td>132</td>\n",
       "      <td>521</td>\n",
       "      <td>2015-01-05</td>\n",
       "      <td>Monday</td>\n",
       "    </tr>\n",
       "  </tbody>\n",
       "</table>\n",
       "</div>"
      ],
      "text/plain": [
       "<div>\n",
       "<style scoped>\n",
       "    .dataframe tbody tr th:only-of-type {\n",
       "        vertical-align: middle;\n",
       "    }\n",
       "\n",
       "    .dataframe tbody tr th {\n",
       "        vertical-align: top;\n",
       "    }\n",
       "\n",
       "    .dataframe thead th {\n",
       "        text-align: right;\n",
       "    }\n",
       "</style>\n",
       "<table border=\"1\" class=\"dataframe\">\n",
       "  <thead>\n",
       "    <tr style=\"text-align: right;\">\n",
       "      <th></th>\n",
       "      <th>Year</th>\n",
       "      <th>month</th>\n",
       "      <th>day</th>\n",
       "      <th>Arrest</th>\n",
       "      <th>crime_count</th>\n",
       "      <th>Date</th>\n",
       "      <th>day_name</th>\n",
       "    </tr>\n",
       "  </thead>\n",
       "  <tbody>\n",
       "    <tr>\n",
       "      <th>0</th>\n",
       "      <td>2015</td>\n",
       "      <td>1</td>\n",
       "      <td>1</td>\n",
       "      <td>200</td>\n",
       "      <td>1021</td>\n",
       "      <td>2015-01-01</td>\n",
       "      <td>Thursday</td>\n",
       "    </tr>\n",
       "    <tr>\n",
       "      <th>1</th>\n",
       "      <td>2015</td>\n",
       "      <td>1</td>\n",
       "      <td>2</td>\n",
       "      <td>190</td>\n",
       "      <td>672</td>\n",
       "      <td>2015-01-02</td>\n",
       "      <td>Friday</td>\n",
       "    </tr>\n",
       "    <tr>\n",
       "      <th>2</th>\n",
       "      <td>2015</td>\n",
       "      <td>1</td>\n",
       "      <td>3</td>\n",
       "      <td>205</td>\n",
       "      <td>648</td>\n",
       "      <td>2015-01-03</td>\n",
       "      <td>Saturday</td>\n",
       "    </tr>\n",
       "    <tr>\n",
       "      <th>3</th>\n",
       "      <td>2015</td>\n",
       "      <td>1</td>\n",
       "      <td>4</td>\n",
       "      <td>160</td>\n",
       "      <td>513</td>\n",
       "      <td>2015-01-04</td>\n",
       "      <td>Sunday</td>\n",
       "    </tr>\n",
       "    <tr>\n",
       "      <th>4</th>\n",
       "      <td>2015</td>\n",
       "      <td>1</td>\n",
       "      <td>5</td>\n",
       "      <td>132</td>\n",
       "      <td>521</td>\n",
       "      <td>2015-01-05</td>\n",
       "      <td>Monday</td>\n",
       "    </tr>\n",
       "  </tbody>\n",
       "</table>\n",
       "</div>"
      ]
     },
     "execution_count": 49,
     "metadata": {},
     "output_type": "execute_result"
    }
   ],
   "source": [
    "# How has crime behaved over the months for all these years?\n",
    "# Aggregate crime at a day level to check for trends\n",
    "agg_data = pd.DataFrame(columns=[\"Year\", \"month\", \"day\", \"Arrest\", \"crime_count\"])\n",
    "for year_data in all_year_data:\n",
    "    year_agg = year_data.groupby(by=[\"Year\", \"month\", \"day\"], as_index=False).sum()\n",
    "    year_agg = year_agg[[\"Year\", \"month\", \"day\", \"Arrest\", \"crime_count\"]]\n",
    "    agg_data = agg_data.append(year_agg, ignore_index=True)\n",
    "\n",
    "def get_date_df(row):\n",
    "    df = pd.DataFrame({\n",
    "        'year':row[\"Year\"],\n",
    "        'month':row[\"month\"],\n",
    "        'day':row[\"day\"],\n",
    "        },\n",
    "        index=[0])\n",
    "    return df\n",
    "\n",
    "agg_data[\"Date\"] = agg_data.apply(lambda row:\n",
    "                                  pd.to_datetime(get_date_df(row)), \n",
    "                                  axis=1)\n",
    "\n",
    "agg_data[\"day_name\"] = agg_data.apply(lambda row:\n",
    "                                  row[\"Date\"].strftime(\"%A\"), \n",
    "                                  axis=1)\n",
    "\n",
    "agg_data.head()"
   ]
  },
  {
   "cell_type": "code",
   "execution_count": 15,
   "metadata": {
    "collapsed": false
   },
   "outputs": [
    {
     "name": "stdout",
     "output_type": "stream",
     "text": [
      "High five! You successfully sent some data to your account on plotly. View your plot in your browser at https://plot.ly/~sriharis/0 or inside your plot.ly account where it is named 'plot from API'\n"
     ]
    },
    {
     "data": {
      "text/html": [
       "<iframe id=\"igraph\" scrolling=\"no\" style=\"border:none;\" seamless=\"seamless\" src=\"https://plot.ly/~sriharis/0.embed\" height=\"525px\" width=\"100%\"></iframe>"
      ],
      "text/plain": [
       "<iframe id=\"igraph\" scrolling=\"no\" style=\"border:none;\" seamless=\"seamless\" src=\"https://plot.ly/~sriharis/0.embed\" height=\"525px\" width=\"100%\"></iframe>"
      ]
     },
     "execution_count": 15,
     "metadata": {},
     "output_type": "execute_result"
    }
   ],
   "source": [
    "data = []\n",
    "# Create traces for each year\n",
    "for year in agg_data[\"Year\"].unique():\n",
    "    trace = go.Scatter(\n",
    "        x = agg_data[agg_data[\"Year\"] == year][\"Date\"],\n",
    "        y = agg_data[agg_data[\"Year\"] == year][\"crime_count\"],\n",
    "        name = str(year)\n",
    "    )\n",
    "    data.append(trace)\n",
    "    \n",
    "py.iplot(data)"
   ]
  },
  {
   "cell_type": "code",
   "execution_count": 17,
   "metadata": {
    "collapsed": false
   },
   "outputs": [
    {
     "data": {
      "text/html": [
       "<div>\n",
       "<style scoped>\n",
       "    .dataframe tbody tr th:only-of-type {\n",
       "        vertical-align: middle;\n",
       "    }\n",
       "\n",
       "    .dataframe tbody tr th {\n",
       "        vertical-align: top;\n",
       "    }\n",
       "\n",
       "    .dataframe thead th {\n",
       "        text-align: right;\n",
       "    }\n",
       "</style>\n",
       "<table border=\"1\" class=\"dataframe\">\n",
       "  <thead>\n",
       "    <tr style=\"text-align: right;\">\n",
       "      <th></th>\n",
       "      <th>not_arrested</th>\n",
       "      <th>arrested</th>\n",
       "      <th>not_arrested_%</th>\n",
       "      <th>arrested_%</th>\n",
       "    </tr>\n",
       "  </thead>\n",
       "  <tbody>\n",
       "    <tr>\n",
       "      <th>2015</th>\n",
       "      <td>193954</td>\n",
       "      <td>69817</td>\n",
       "      <td>73.531207</td>\n",
       "      <td>26.468793</td>\n",
       "    </tr>\n",
       "    <tr>\n",
       "      <th>2016</th>\n",
       "      <td>215926</td>\n",
       "      <td>52765</td>\n",
       "      <td>80.362200</td>\n",
       "      <td>19.637800</td>\n",
       "    </tr>\n",
       "    <tr>\n",
       "      <th>2017</th>\n",
       "      <td>215438</td>\n",
       "      <td>52188</td>\n",
       "      <td>80.499653</td>\n",
       "      <td>19.500347</td>\n",
       "    </tr>\n",
       "  </tbody>\n",
       "</table>\n",
       "</div>"
      ],
      "text/plain": [
       "<div>\n",
       "<style scoped>\n",
       "    .dataframe tbody tr th:only-of-type {\n",
       "        vertical-align: middle;\n",
       "    }\n",
       "\n",
       "    .dataframe tbody tr th {\n",
       "        vertical-align: top;\n",
       "    }\n",
       "\n",
       "    .dataframe thead th {\n",
       "        text-align: right;\n",
       "    }\n",
       "</style>\n",
       "<table border=\"1\" class=\"dataframe\">\n",
       "  <thead>\n",
       "    <tr style=\"text-align: right;\">\n",
       "      <th></th>\n",
       "      <th>not_arrested</th>\n",
       "      <th>arrested</th>\n",
       "      <th>not_arrested_%</th>\n",
       "      <th>arrested_%</th>\n",
       "    </tr>\n",
       "  </thead>\n",
       "  <tbody>\n",
       "    <tr>\n",
       "      <th>2015</th>\n",
       "      <td>193954</td>\n",
       "      <td>69817</td>\n",
       "      <td>73.531207</td>\n",
       "      <td>26.468793</td>\n",
       "    </tr>\n",
       "    <tr>\n",
       "      <th>2016</th>\n",
       "      <td>215926</td>\n",
       "      <td>52765</td>\n",
       "      <td>80.362200</td>\n",
       "      <td>19.637800</td>\n",
       "    </tr>\n",
       "    <tr>\n",
       "      <th>2017</th>\n",
       "      <td>215438</td>\n",
       "      <td>52188</td>\n",
       "      <td>80.499653</td>\n",
       "      <td>19.500347</td>\n",
       "    </tr>\n",
       "  </tbody>\n",
       "</table>\n",
       "</div>"
      ]
     },
     "execution_count": 17,
     "metadata": {},
     "output_type": "execute_result"
    }
   ],
   "source": [
    "# What about arrests made?\n",
    "arrest_map = {}\n",
    "for year_data in all_year_data:\n",
    "    arrest_map[year_data[\"Year\"].unique()[0]] = dict({\n",
    "        0:year_data[\"Arrest\"].value_counts()[0],\n",
    "        1:year_data[\"Arrest\"].value_counts()[1],\n",
    "    })\n",
    "arrest_df = pd.DataFrame(arrest_map).transpose()\n",
    "arrest_df.columns = [\"not_arrested\", \"arrested\"]\n",
    "\n",
    "# But was there a percentage change?\n",
    "arrest_df[\"not_arrested_%\"] = arrest_df.apply(lambda row: \n",
    "                                              (row[\"not_arrested\"] / (row[\"not_arrested\"] + row[\"arrested\"])) * 100,\n",
    "                                              axis=1\n",
    "                                              )\n",
    "arrest_df[\"arrested_%\"] = arrest_df.apply(lambda row: 100-row[\"not_arrested_%\"], axis=1)\n",
    "\n",
    "arrest_df.head()"
   ]
  },
  {
   "cell_type": "code",
   "execution_count": 18,
   "metadata": {
    "collapsed": false
   },
   "outputs": [
    {
     "data": {
      "text/html": [
       "<iframe id=\"igraph\" scrolling=\"no\" style=\"border:none;\" seamless=\"seamless\" src=\"https://plot.ly/~sriharis/2.embed\" height=\"525px\" width=\"100%\"></iframe>"
      ],
      "text/plain": [
       "<iframe id=\"igraph\" scrolling=\"no\" style=\"border:none;\" seamless=\"seamless\" src=\"https://plot.ly/~sriharis/2.embed\" height=\"525px\" width=\"100%\"></iframe>"
      ]
     },
     "execution_count": 18,
     "metadata": {},
     "output_type": "execute_result"
    }
   ],
   "source": [
    "# How many were arrested? \n",
    "trace1 = go.Bar(\n",
    "    x=arrest_df.index.values,\n",
    "    y=arrest_df[\"arrested\"],\n",
    "    name=\"Arrested\"\n",
    ")\n",
    "trace0 = go.Bar(\n",
    "    x=arrest_df.index.values,\n",
    "    y=arrest_df[\"not_arrested\"],\n",
    "    name=\"Not Arrested\"\n",
    ")\n",
    "\n",
    "layout = go.Layout(\n",
    "    barmode='stack'\n",
    ")\n",
    "\n",
    "fig = go.Figure(data=[trace1, trace0], layout=layout)\n",
    "py.iplot(fig) \n"
   ]
  },
  {
   "cell_type": "code",
   "execution_count": 19,
   "metadata": {},
   "outputs": [
    {
     "data": {
      "text/html": [
       "<iframe id=\"igraph\" scrolling=\"no\" style=\"border:none;\" seamless=\"seamless\" src=\"https://plot.ly/~sriharis/4.embed\" height=\"525px\" width=\"100%\"></iframe>"
      ],
      "text/plain": [
       "<iframe id=\"igraph\" scrolling=\"no\" style=\"border:none;\" seamless=\"seamless\" src=\"https://plot.ly/~sriharis/4.embed\" height=\"525px\" width=\"100%\"></iframe>"
      ]
     },
     "execution_count": 19,
     "metadata": {},
     "output_type": "execute_result"
    }
   ],
   "source": [
    "# What about the percentage?\n",
    "trace1p = go.Bar(\n",
    "    x=arrest_df.index.values,\n",
    "    y=arrest_df[\"arrested_%\"],\n",
    "    name=\"Arrested\"\n",
    ")\n",
    "trace0p = go.Bar(\n",
    "    x=arrest_df.index.values,\n",
    "    y=arrest_df[\"not_arrested_%\"],\n",
    "    name=\"Not Arrested\"\n",
    ")\n",
    "\n",
    "layout = go.Layout(\n",
    "    barmode='stack'\n",
    ")\n",
    "\n",
    "fig = go.Figure(data=[trace1p, trace0p], layout=layout)\n",
    "py.iplot(fig)  "
   ]
  },
  {
   "cell_type": "code",
   "execution_count": 51,
   "metadata": {},
   "outputs": [
    {
     "data": {
      "image/png": "[encoded data removed]",
      "text/plain": [
       "<Figure size 1152x720 with 2 Axes>"
      ]
     },
     "metadata": {},
     "output_type": "display_data"
    }
   ],
   "source": [
    " #But when do arrests happen?\n",
    "agg_month_dayname = agg_data.groupby(by=[\"month\", \"day_name\"], as_index=False).sum()\n",
    "agg_month_dayname[\"crime_count_1000s\"] = agg_month_dayname[\"crime_count\"] / 1000\n",
    "heatmap_data = agg_month_dayname.pivot(\"day_name\", \"month\", \"crime_count_1000s\")\n",
    "col_palette = sns.diverging_palette(240, 1, n=20)\n",
    "plt.figure(figsize=(16, 10))\n",
    "plt.title(\"Crime counts in thousands\")\n",
    "g = sns.heatmap(data=heatmap_data, cmap=col_palette, annot=True)"
   ]
  },
  {
   "cell_type": "code",
   "execution_count": 52,
   "metadata": {},
   "outputs": [
    {
     "data": {
      "image/png": "[encoded data removed]",
      "text/plain": [
       "<Figure size 1152x720 with 2 Axes>"
      ]
     },
     "metadata": {},
     "output_type": "display_data"
    }
   ],
   "source": [
    "agg_month_dayname[\"arrest_1000s\"] = agg_month_dayname[\"Arrest\"] / 1000\n",
    "heatmap_data = agg_month_dayname.pivot(\"day_name\", \"month\", \"arrest_1000s\")\n",
    "col_palette = sns.diverging_palette(240, 1, n=20)\n",
    "plt.figure(figsize=(16, 10))\n",
    "plt.title(\"Arrests in thousands\")\n",
    "g = sns.heatmap(data=heatmap_data, cmap=col_palette, annot=True)"
   ]
  }
 ],
 "metadata": {
  "kernelspec": {
   "display_name": "Python 2",
   "language": "python",
   "name": "python2"
  },
  "language_info": {
   "codemirror_mode": {
    "name": "ipython",
    "version": 2
   },
   "file_extension": ".py",
   "mimetype": "text/x-python",
   "name": "python",
   "nbconvert_exporter": "python",
   "pygments_lexer": "ipython2",
   "version": "2.7.6"
  }
 },
 "nbformat": 4,
 "nbformat_minor": 0
}
