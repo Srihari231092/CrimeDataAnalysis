{
 "cells": [
  {
   "cell_type": "code",
   "execution_count": null,
   "metadata": {
    "collapsed": true
   },
   "outputs": [],
   "source": [
    "import os\n",
    "import pandas as pd\n",
    "import webbrowser\n",
    "\n",
    "from DataExtractor import DataExtractor\n",
    "from VizTools import *\n",
    "\n",
    "from folium.plugins import TimeSliderChoropleth\n",
    "import folium\n",
    "import geopandas as gpd\n"
   ]
  },
  {
   "cell_type": "code",
   "execution_count": null,
   "metadata": {},
   "outputs": [],
   "source": [
    "# Set the path variables\n",
    "_path = os.path.join(os.getcwd(), \"datasets/crime\")\n",
    "\n",
    "year = 2017\n",
    "\n",
    "columns_to_select = [\"Arrest\", \n",
    "                     \"Date\", \n",
    "                     \"Year\", \n",
    "                     \"crime_count\", \n",
    "                     \"day\", \n",
    "                     \"month\", \n",
    "                     \"Location\",\n",
    "                     \"Ward\"\n",
    "                     ]\n",
    "\n",
    "print(\"Pulling year:\", year)\n",
    "cols = ''.join(s+\", \" for s in columns_to_select)\n",
    "query = \"SELECT \" + cols[:-2] + \" FROM crime_\" + str(year) + \" LIMIT 5000;\"\n",
    "# print(query)\n",
    "data_extractor = DataExtractor()\n",
    "year_df = data_extractor.read_db(db=db, query=query)\n",
    "print(\"Pulled\", year_df.shape[0], \"rows of data for year\", year)\n"
   ]
  },
  {
   "cell_type": "code",
   "execution_count": 24,
   "metadata": {},
   "outputs": [
    {
     "name": "stdout",
     "output_type": "stream",
     "text": [
      "Pulled 1000 rows of data for year 2001\nPulled 1000 rows of data for year 2002\n"
     ]
    },
    {
     "name": "stdout",
     "output_type": "stream",
     "text": [
      "Pulled 1000 rows of data for year 2003\nPulled 1000 rows of data for year 2004\n"
     ]
    },
    {
     "name": "stdout",
     "output_type": "stream",
     "text": [
      "Pulled 1000 rows of data for year 2005\nPulled 1000 rows of data for year 2006\n"
     ]
    },
    {
     "name": "stdout",
     "output_type": "stream",
     "text": [
      "Pulled 1000 rows of data for year 2007\nPulled 1000 rows of data for year 2008\n"
     ]
    },
    {
     "name": "stdout",
     "output_type": "stream",
     "text": [
      "Pulled 1000 rows of data for year 2009\nPulled 1000 rows of data for year 2010\n"
     ]
    },
    {
     "name": "stdout",
     "output_type": "stream",
     "text": [
      "Pulled 1000 rows of data for year 2011\nPulled 1000 rows of data for year 2012\n"
     ]
    },
    {
     "name": "stdout",
     "output_type": "stream",
     "text": [
      "Pulled 1000 rows of data for year 2013\nPulled 1000 rows of data for year 2014\n"
     ]
    },
    {
     "name": "stdout",
     "output_type": "stream",
     "text": [
      "Pulled 1000 rows of data for year 2015\nPulled 1000 rows of data for year 2016\n"
     ]
    },
    {
     "name": "stdout",
     "output_type": "stream",
     "text": [
      "Pulled 1000 rows of data for year 2017\n"
     ]
    }
   ],
   "source": [
    "# Set the path variables\n",
    "_path = os.path.join(os.getcwd(), \"datasets/crime\")\n",
    "\n",
    "db = 'crime_data'\n",
    "\n",
    "start_year = 2001\n",
    "end_year = 2017\n",
    "all_year_data = []\n",
    "\n",
    "columns_to_select = [\"Arrest\", \n",
    "                     \"Date\", \n",
    "                     \"Year\", \n",
    "                     \"crime_count\", \n",
    "                     \"day\", \n",
    "                     \"month\", \n",
    "                     \"Location\",\n",
    "                     \"Ward\"\n",
    "                     ]\n",
    "\n",
    "for year in range(start_year, end_year+1):\n",
    "    # print(\"Pulling year:\", year)\n",
    "    cols = ''.join(s+\", \" for s in columns_to_select)\n",
    "    query = \"SELECT \" + cols[:-2] + \" FROM crime_\" + str(year) + \" LIMIT 5000;\"\n",
    "    # print(query)\n",
    "    data_extractor = DataExtractor()\n",
    "    year_df = data_extractor.read_db(db=db, query=query)\n",
    "    print(\"Pulled\", year_df.shape[0], \"rows of data for year\", year)\n",
    "    # print(year_df.shape)\n",
    "    all_year_data.append(year_df) \n"
   ]
  },
  {
   "cell_type": "code",
   "execution_count": 11,
   "metadata": {},
   "outputs": [
    {
     "name": "stdout",
     "output_type": "stream",
     "text": [
      "Dataframe columns :\n\t ID\t Date\t Block\t IUCR\t Primary Type\t Description\t Location Description\t Arrest\t Domestic\t Beat\t District\t Ward\t Community Area\t FBI Code\t X Coordinate\t Y Coordinate\t Year\t Location\t month\t day\t quarter\t week_no\t crime_count"
     ]
    }
   ],
   "source": [
    "# Clean the data and prep it for visualisation\n",
    "print_columns(crime_df)"
   ]
  },
  {
   "cell_type": "code",
   "execution_count": 12,
   "metadata": {},
   "outputs": [],
   "source": [
    "ward_data = pd.DataFrame(crime_df['Ward'].value_counts().astype(float))\n",
    "ward_data.reset_index(inplace=True)\n",
    "ward_data.columns = ['ward', 'crime_count']\n",
    "# ward_data[\"ward\"] = ward_data[\"ward\"].astype(int)"
   ]
  },
  {
   "cell_type": "code",
   "execution_count": 16,
   "metadata": {},
   "outputs": [],
   "source": [
    "# Get the mapping boundaries for the choropleth map\n",
    "max_val = ward_data[\"crime_count\"].max()\n",
    "\n",
    "n_steps = 6\n",
    "step = int(max_val / n_steps)\n",
    "th_scale = list(range(0, int(max_val + step), step))\n",
    "\n",
    "ward_data[\"ward\"] = ward_data[\"ward\"].astype('int')"
   ]
  },
  {
   "cell_type": "code",
   "execution_count": 20,
   "metadata": {
    "collapsed": false
   },
   "outputs": [
    {
     "data": {
      "text/plain": [
       "True"
      ]
     },
     "execution_count": 23,
     "metadata": {},
     "output_type": "execute_result"
    }
   ],
   "source": [
    "chicago_coordinates = (41.895140898, -87.624255632)\n",
    "map1 = choropleth_map(data_path=_path,\n",
    "                      data=ward_data,\n",
    "                      start_coord=chicago_coordinates,\n",
    "                      threshold_scale=th_scale)\n",
    "map1"
   ]
  },
  {
   "cell_type": "code",
   "execution_count": 23,
   "metadata": {
    "collapsed": false
   },
   "outputs": [
    {
     "data": {
      "text/plain": [
       "True"
      ]
     },
     "execution_count": 23,
     "metadata": {},
     "output_type": "execute_result"
    }
   ],
   "source": [
    "import webbrowser\n",
    "filepath = os.path.join(_path, str(year)+'.html')\n",
    "map1.save(filepath)\n",
    "webbrowser.open('file://' + filepath)"
   ]
  }
 ],
 "metadata": {
  "kernelspec": {
   "display_name": "Python 2",
   "language": "python",
   "name": "python2"
  },
  "language_info": {
   "codemirror_mode": {
    "name": "ipython",
    "version": 2
   },
   "file_extension": ".py",
   "mimetype": "text/x-python",
   "name": "python",
   "nbconvert_exporter": "python",
   "pygments_lexer": "ipython2",
   "version": "2.7.6"
  }
 },
 "nbformat": 4,
 "nbformat_minor": 0
}
