{
 "cells": [
  {
   "cell_type": "code",
   "execution_count": 0,
   "metadata": {
    "collapsed": true
   },
   "outputs": [],
   "source": [
    "import os\n",
    "import pandas as pd\n",
    "\n",
    "from DataExtractor import DataExtractor\n",
    "from DataUtils import *\n",
    "from VizTools import *"
   ]
  },
  {
   "cell_type": "code",
   "execution_count": 2,
   "metadata": {},
   "outputs": [],
   "source": [
    "# Set the path variables\n",
    "_path = os.path.join(os.getcwd(), \"datasets/crime\")\n",
    "\n",
    "db = 'crime_data'\n",
    "year = 2017\n",
    "query = \"SELECT * FROM crime_\" + str(year) + \";\"\n",
    "\n",
    "data_extractor = DataExtractor()\n",
    "crime_df = data_extractor.read_db(db=db, query=query)\n"
   ]
  },
  {
   "cell_type": "code",
   "execution_count": 3,
   "metadata": {},
   "outputs": [
    {
     "name": "stdout",
     "output_type": "stream",
     "text": [
      "(267626, 23)\n"
     ]
    },
    {
     "name": "stdout",
     "output_type": "stream",
     "text": [
      "Number of duplicate IDs  0\n"
     ]
    },
    {
     "name": "stdout",
     "output_type": "stream",
     "text": [
      "(264096, 23)\nDataframe columns :\n\t ID\t Date\t Block\t IUCR\t Primary Type\t Description\t Location Description\t Arrest\t Domestic\t Beat\t District\t Ward\t Community Area\t FBI Code\t X Coordinate\t Y Coordinate\t Year\t Location\t month\t day\t quarter\t week_no\t crime_count"
     ]
    }
   ],
   "source": [
    "# Clean the data and prep it for visualisation\n",
    "print(crime_df.shape)\n",
    "crime_df = clean_data(crime_df)\n",
    "print(crime_df.shape)\n",
    "print_columns(crime_df)"
   ]
  },
  {
   "cell_type": "code",
   "execution_count": 4,
   "metadata": {},
   "outputs": [],
   "source": [
    "ward_data = pd.DataFrame(crime_df['Ward'].value_counts().astype(float))\n",
    "ward_data.reset_index(inplace=True)\n",
    "ward_data.columns = ['ward', 'crime_count']\n"
   ]
  },
  {
   "cell_type": "code",
   "execution_count": 5,
   "metadata": {},
   "outputs": [],
   "source": [
    "# Get the mapping boundaries for the choropleth map\n",
    "max_val = ward_data[\"crime_count\"].max()\n",
    "\n",
    "n_steps = 6\n",
    "step = int(max_val / n_steps)\n",
    "th_scale = list(range(0, int(max_val + step), step))"
   ]
  },
  {
   "cell_type": "code",
   "execution_count": null,
   "metadata": {},
   "outputs": [],
   "source": [
    "chicago_coordinates = (41.895140898, -87.624255632)\n",
    "map1 = choropleth_map(data_path=_path,\n",
    "                      data=ward_data,\n",
    "                      start_coord=chicago_coordinates,\n",
    "                      threshold_scale=th_scale)"
   ]
  },
  {
   "cell_type": "code",
   "execution_count": null,
   "metadata": {},
   "outputs": [],
   "source": [
    "# Save the map to disk\n",
    "filepath = os.path.join(_path, \"ward_crime\"+'.html')\n",
    "map1.save(filepath)"
   ]
  }
 ],
 "metadata": {
  "kernelspec": {
   "display_name": "Python 2",
   "language": "python",
   "name": "python2"
  },
  "language_info": {
   "codemirror_mode": {
    "name": "ipython",
    "version": 2
   },
   "file_extension": ".py",
   "mimetype": "text/x-python",
   "name": "python",
   "nbconvert_exporter": "python",
   "pygments_lexer": "ipython2",
   "version": "2.7.6"
  }
 },
 "nbformat": 4,
 "nbformat_minor": 0
}
